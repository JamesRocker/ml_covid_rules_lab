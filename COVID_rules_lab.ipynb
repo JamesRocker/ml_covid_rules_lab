{
 "cells": [
  {
   "cell_type": "markdown",
   "metadata": {},
   "source": [
    "# Classification Rules For COVID-19 dataset Using PRISM Algorithm"
   ]
  },
  {
   "cell_type": "markdown",
   "metadata": {},
   "source": [
    "<h3>PRISM Algorithm Implementation</h3>"
   ]
  },
  {
   "cell_type": "code",
   "execution_count": 55,
   "metadata": {},
   "outputs": [],
   "source": [
    "class Rule:\n",
    "    def __init__(self, conditions=None, class_label=None, accuracy=0.0, coverage=0):\n",
    "        self.conditions = conditions\n",
    "        self.class_label = class_label\n",
    "        self.accuracy = accuracy\n",
    "        self.coverage = coverage\n",
    "        \n",
    "    def __str__(self):\n",
    "        str_rep = \"If \"\n",
    "        \n",
    "        counter = 0\n",
    "        for condition in self.conditions:\n",
    "            if counter == (len(self.conditions) - 1):\n",
    "                str_rep += (str(condition) + \"=\" + str(self.conditions[condition]))\n",
    "            else:\n",
    "                str_rep += (str(condition) + \"=\" + str(self.conditions[condition]) + \" and \")\n",
    "            \n",
    "            counter += 1\n",
    "        \n",
    "        str_rep += (\", then \" + self.class_label) \n",
    "        str_rep += (\". Accuracy = \" + str(self.accuracy))\n",
    "        str_rep += (\". Coverage = \" + str(self.coverage))\n",
    "        \n",
    "        return str_rep"
   ]
  },
  {
   "cell_type": "code",
   "execution_count": 1,
   "metadata": {},
   "outputs": [],
   "source": [
    "def get_unique_class_label(rows):\n",
    "    \n",
    "    class_set = set()\n",
    "    \n",
    "    for row in rows:\n",
    "        \n",
    "        # get the last column\n",
    "        class_label = row[-1]\n",
    "        if class_label not in class_set:\n",
    "            class_set.add(class_label)\n",
    "            \n",
    "    return list(class_set)\n",
    "        "
   ]
  },
  {
   "cell_type": "code",
   "execution_count": 2,
   "metadata": {},
   "outputs": [],
   "source": [
    "def copy_rows(rows):\n",
    "    nested_lst = []\n",
    "    for row in rows:\n",
    "        inner_lst = []\n",
    "        for each_data in row:\n",
    "            inner_lst.append(each_data)\n",
    "            \n",
    "        nested_lst.append(inner_lst)\n",
    "    return nested_lst"
   ]
  },
  {
   "cell_type": "code",
   "execution_count": 3,
   "metadata": {},
   "outputs": [],
   "source": [
    "# get specific rows based on attribute index and value of that attribute\n",
    "def get_specific_rows(rows, attr_indx, val):\n",
    "    return [row for row in rows if row[attr_indx] == val]"
   ]
  },
  {
   "cell_type": "code",
   "execution_count": 63,
   "metadata": {},
   "outputs": [],
   "source": [
    "# get attributes that have not been used by the rule\n",
    "def get_remaining_attributes(attributes, rule_node):\n",
    "    \n",
    "    if rule_node is None:\n",
    "        return attributes\n",
    "     \n",
    "    rule_dic = rule_node.conditions\n",
    "    \n",
    "    return [attribute for attribute in attributes if attribute not in rule_dic]"
   ]
  },
  {
   "cell_type": "code",
   "execution_count": 5,
   "metadata": {},
   "outputs": [],
   "source": [
    "def get_unique_attribute_vals(rows, indx):\n",
    "    attribute_val_set = set()\n",
    "    lst = [row[indx] for row in rows]\n",
    "    return list(set(lst))"
   ]
  },
  {
   "cell_type": "code",
   "execution_count": 6,
   "metadata": {},
   "outputs": [],
   "source": [
    "def get_attribute_indx(attribute, attribute_lst):\n",
    "    for indx, attr in enumerate(attribute_lst):\n",
    "        if attribute == attr:\n",
    "            return indx\n",
    "    "
   ]
  },
  {
   "cell_type": "code",
   "execution_count": 140,
   "metadata": {},
   "outputs": [],
   "source": [
    "def get_condition_based_rows(rows, rule_node, attr_lst):\n",
    "    \n",
    "    if rule_node is not None:\n",
    "        rule_dic = rule_node.conditions\n",
    "\n",
    "        covered_rows = copy_rows(rows)\n",
    "\n",
    "        for key in rule_dic:\n",
    "            indx = get_attribute_indx(key, attr_lst)\n",
    "\n",
    "            covered_rows = [row for row in covered_rows if row[indx] == rule_dic[key]]\n",
    "\n",
    "        return covered_rows"
   ]
  },
  {
   "cell_type": "code",
   "execution_count": 8,
   "metadata": {},
   "outputs": [],
   "source": [
    "def calculate_accuracy(correct_rows, covered_rows):\n",
    "    no_of_correct_class = len(correct_rows)\n",
    "    no_of_covered_rows = len(covered_rows)\n",
    "    \n",
    "    # accuracy is between 0.0 and 1.0\n",
    "    accuracy = no_of_correct_class / float(no_of_covered_rows)\n",
    "    return accuracy, no_of_correct_class"
   ]
  },
  {
   "cell_type": "code",
   "execution_count": 134,
   "metadata": {},
   "outputs": [],
   "source": [
    "def get_rule_with_highest_accuracy(possible_rules, accu_thresh, cov_thresh):\n",
    "    \n",
    "    max_acc_node = None\n",
    "    \n",
    "    highest_acc = 0\n",
    "    highest_correctness = 0\n",
    "    \n",
    "    \n",
    "    for possible_rule_node in possible_rules:\n",
    "        if possible_rule_node is None:\n",
    "            continue\n",
    "        \n",
    "        acc = possible_rule_node.accuracy\n",
    "        correct_num = possible_rule_node.coverage\n",
    "        \n",
    "        if acc > highest_acc:\n",
    "            highest_acc = acc\n",
    "            highest_correctness = correct_num\n",
    "            \n",
    "            max_acc_node = possible_rule_node\n",
    "            \n",
    "        elif acc == highest_acc:\n",
    "            if correct_num > highest_correctness:\n",
    "                highest_correctness = correct_num\n",
    "                \n",
    "                max_acc_node = possible_rule_node\n",
    "                \n",
    "    return max_acc_node\n",
    "        \n",
    "    \n",
    "    '''\n",
    "    rule_lst = []\n",
    "    \n",
    "    highest_acc = 0\n",
    "    highest_correctness = 0\n",
    "    \n",
    "    for rule in possible_rules:\n",
    "        acc = rule[2]\n",
    "        correct_num = rule[3]\n",
    "        \n",
    "         \n",
    "        if acc > highest_acc:\n",
    "            highest_acc = acc\n",
    "            highest_correctness = correct_num\n",
    "            \n",
    "            if len(rule_lst) == 0:\n",
    "                rule_lst.append(rule)\n",
    "            else:\n",
    "                rule_lst[0] = rule\n",
    "                \n",
    "        elif acc == highest_acc:\n",
    "            if correct_num > highest_correctness:\n",
    "                highest_correctness = correct_num\n",
    "                \n",
    "                if len(rule_lst) == 0:\n",
    "                    rule_lst.append(rule)\n",
    "                else:\n",
    "                    rule_lst[0] = rule\n",
    "                    \n",
    "    return rule_lst[0]\n",
    "    '''\n",
    "        \n",
    "        "
   ]
  },
  {
   "cell_type": "code",
   "execution_count": 122,
   "metadata": {},
   "outputs": [],
   "source": [
    "# remove rows which are covered by the rules\n",
    "def get_remaining_rows(rows, covered_rows):\n",
    "    return [row for row in rows if row not in covered_rows]\n",
    "\n"
   ]
  },
  {
   "cell_type": "code",
   "execution_count": 31,
   "metadata": {},
   "outputs": [],
   "source": [
    "def learn_one_rule_testing(rows, class_labels, attributes, accuracy, coverage):\n",
    "    \n",
    "    # mapping attribute to index\n",
    "    attribute_indx_dic = {}\n",
    "    counter = 0\n",
    "    for attribute in attributes:\n",
    "        attribute_indx_dic[attribute] = counter\n",
    "        counter += 1\n",
    "    \n",
    "    # for each class label\n",
    "    for class_label in class_labels:\n",
    "         \n",
    "        # get rows with that class label\n",
    "        # -1 refers to index of value of class label\n",
    "        specific_rows = get_specific_rows(rows, -1, class_label)\n",
    "        \n",
    "        if len(specific_rows) == 0:\n",
    "            continue\n",
    "        \n",
    "        rows_covered_by_rule = copy_rows(rows)\n",
    "            \n",
    "        \n",
    "        rule_lst = []\n",
    "        \n",
    "       \n",
    "    \n",
    "        while True:\n",
    "            all_possible_rules = []\n",
    "            \n",
    "            # remaining attributes that haven't been used in the rule\n",
    "            remaining_attributes = get_remaining_attributes(attributes, rule_lst)\n",
    "\n",
    "\n",
    "            for attr in remaining_attributes:\n",
    "                indx = attribute_indx_dic[attr]\n",
    "                \n",
    "                # get unique attribute values\n",
    "                remaining_attr_vals = get_unique_attribute_vals(rows_covered_by_rule, indx)\n",
    "\n",
    "                for attr_val in remaining_attr_vals:\n",
    "\n",
    "                    # note: both attribute and values of attribute results in condition\n",
    "                    # eg. If 'Outlook' = 'Sunny' \n",
    "\n",
    "                    # get rows based on condition\n",
    "                    # Eg. if 'Outlook' = 'Sunny'\n",
    "                    # these are rows that satisfy only the condition\n",
    "                    only_condition_rows = get_condition_based_rows(rows_covered_by_rule, [{attr: attr_val}], attributes)\n",
    "\n",
    "                   \n",
    "                    # get rows based on condition and class label\n",
    "                    # Eg. if 'Outlook' = 'Sunny', then 'Yes'\n",
    "                    # these are rows that satisfy both condition and class label\n",
    "                    condition_class_label_rows = [row for row in only_condition_rows if row[-1] == class_label]\n",
    "\n",
    "                    print(\"condition with that class rows for {} with val={}: \".format(attr,attr_val))\n",
    "                    print(only_condition_rows)\n",
    "                    print(\"\\n\")\n",
    "                    \n",
    "    \n",
    "                    \n",
    "                    # calculate accuracy\n",
    "                    calculated_acc, correct_num = calculate_accuracy(condition_class_label_rows, only_condition_rows)\n",
    "\n",
    "                        \n",
    "                    all_possible_rules.append([{attr: attr_val}, class_label , calculated_acc, correct_num])\n",
    "\n",
    "            print(\"all possible rules\")\n",
    "            print(all_possible_rules)\n",
    "            \n",
    "            highest_accuracy_rule = get_rule_with_highest_accuracy(all_possible_rules)\n",
    "\n",
    "            \n",
    "                \n",
    "            \n",
    "            print(\"highest accuracy rule: \")\n",
    "            print(highest_accuracy_rule)\n",
    "\n",
    "            # add rule info to rule_lst\n",
    "            if len(rule_lst) == 0:\n",
    "                rule_lst = highest_accuracy_rule\n",
    "            else:\n",
    "                # if rule info has been added before, then just update\n",
    "\n",
    "                rule_dic = rule_lst[0]\n",
    "\n",
    "                # update condition dictionary\n",
    "                another_rule_dic = highest_accuracy_rule[0]\n",
    "                for key in another_rule_dic:\n",
    "                    attri_value = another_rule_dic[key]\n",
    "                    rule_lst[0][key] = attri_value\n",
    "\n",
    "                # update accuracy and correctness\n",
    "                rule_lst[2] = highest_accuracy_rule[2]\n",
    "                rule_lst[3] = highest_accuracy_rule[3]\n",
    "\n",
    "            print('rules list: ')\n",
    "            print(rule_lst)\n",
    "            print('\\n')\n",
    "            rows_covered_by_rule = get_condition_based_rows(rows_covered_by_rule, rule_lst, attributes)\n",
    "            \n",
    "            if highest_accuracy_rule[2] == 1.0 or highest_accuracy_rule[3] < 3:\n",
    "                break\n",
    "                \n",
    "        remaining_rows = get_remaining_rows(rows, rows_covered_by_rule)\n",
    "        \n",
    "        return remaining_rows, rule_lst\n",
    "        \n",
    "        \n",
    "    \n",
    "    "
   ]
  },
  {
   "cell_type": "code",
   "execution_count": 160,
   "metadata": {},
   "outputs": [],
   "source": [
    "def learn_one_rule(rows, class_labels, attributes, accuracy_thresh, coverage_thresh):\n",
    "    \n",
    "    # mapping attribute to index\n",
    "    attribute_indx_dic = {}\n",
    "    counter = 0\n",
    "    for attribute in attributes:\n",
    "        attribute_indx_dic[attribute] = counter\n",
    "        counter += 1\n",
    "        \n",
    "    \n",
    "    rows_covered_by_rule = copy_rows(rows)\n",
    "    \n",
    "    highest_node = None\n",
    "    \n",
    "    while True:\n",
    "    \n",
    "        best_classes_rule_lst = []\n",
    "\n",
    "        for class_label in class_labels:\n",
    "            \n",
    "            if highest_node is not None and highest_node.class_label != class_label:\n",
    "                continue\n",
    "\n",
    "            # remaining attributes that haven't been used in the rule\n",
    "            remaining_attributes = get_remaining_attributes(attributes, highest_node)\n",
    "\n",
    "            # this stores all the nodes generated from considering each attribute for each class label\n",
    "            possible_rules = []\n",
    "\n",
    "\n",
    "            # go over all the remaining attributes\n",
    "            for attr in remaining_attributes:\n",
    "\n",
    "                indx = attribute_indx_dic[attr]\n",
    "\n",
    "                # get unique attribute values such as 'Sunny', Rainy, ...\n",
    "                remaining_attr_vals = get_unique_attribute_vals(rows_covered_by_rule, indx)\n",
    "\n",
    "\n",
    "                for attr_val in remaining_attr_vals:\n",
    "                    # note: both attribute and values of attribute results in condition\n",
    "                    # eg. If 'Outlook' = 'Sunny' \n",
    "\n",
    "                    # create a rule node for each attribute values\n",
    "                    potential_rule_node = Rule(conditions={attr: attr_val}, class_label=class_label)\n",
    "\n",
    "\n",
    "                    # Simply, give me rows which satisfy the condition\n",
    "                    # eg. give me rows that has Outlook = Sunny\n",
    "                    only_condition_rows = get_condition_based_rows(rows_covered_by_rule, potential_rule_node, attributes)\n",
    "\n",
    "\n",
    "                    # Simply, give me rows which satisfy both the condition and the class label\n",
    "                    # Eg. give me rows that has 'Outlook' = 'Sunny' and class label = 'Yes'\n",
    "                    # these are rows that satisfy both condition and class label\n",
    "                    condition_class_label_rows = [row for row in only_condition_rows if row[-1] == class_label]\n",
    "\n",
    "\n",
    "                    #print(\"for {}: {} accuracy\".format(attr,attr_val))\n",
    "                    #print(\"correct: \", len(condition_class_label_rows))\n",
    "                    #print(\"covered: \", len(only_condition_rows))\n",
    "                    \n",
    "                    # calculate accuracy\n",
    "                    calculated_acc, correct_num = calculate_accuracy(condition_class_label_rows, only_condition_rows)\n",
    "                    \n",
    "                    if correct_num >= coverage_thresh:\n",
    "                        potential_rule_node.accuracy = calculated_acc\n",
    "                        potential_rule_node.coverage = correct_num\n",
    "                    \n",
    "                        possible_rules.append(potential_rule_node)\n",
    "        \n",
    "            \n",
    "            if len(possible_rules) == 0:\n",
    "                continue\n",
    "            \n",
    "            \n",
    "            # get the rule with highest accuracy among the same class label\n",
    "            highest_accuracy_rule = get_rule_with_highest_accuracy(possible_rules, accuracy_thresh, coverage_thresh)\n",
    "\n",
    "            best_classes_rule_lst.append(highest_accuracy_rule)\n",
    "            \n",
    "        \n",
    "\n",
    "            # update the highest_node\n",
    "            if highest_node is not None:\n",
    "\n",
    "                for key in highest_accuracy_rule.conditions:\n",
    "                    attri_value = highest_accuracy_rule.conditions[key]\n",
    "\n",
    "                    highest_node.conditions[key] = attri_value\n",
    "\n",
    "                highest_node.accuracy = highest_accuracy_rule.accuracy\n",
    "                highest_node.coverage = highest_accuracy_rule.coverage\n",
    "            \n",
    "        if len(best_classes_rule_lst) == 0:\n",
    "            return None, None\n",
    "        \n",
    "        if highest_node is None:\n",
    "            # this node is the best among other nodes including nodes from other class labels\n",
    "            highest_node = get_rule_with_highest_accuracy(best_classes_rule_lst, accuracy_thresh, coverage_thresh)\n",
    "        \n",
    "        rows_covered_by_rule = get_condition_based_rows(rows_covered_by_rule, highest_node, attributes)\n",
    "\n",
    "        if highest_node.accuracy == accuracy_thresh or highest_node.coverage < coverage_thresh:\n",
    "            break\n",
    "            \n",
    "    \n",
    "    remaining_rows = get_remaining_rows(rows, rows_covered_by_rule)\n",
    "        \n",
    "    return remaining_rows, highest_node\n",
    "    \n",
    "    \n",
    "   \n",
    "        \n",
    "        \n",
    "    \n",
    "    \n",
    "    "
   ]
  },
  {
   "cell_type": "code",
   "execution_count": 161,
   "metadata": {},
   "outputs": [],
   "source": [
    "def PRISM_algorithm(rows, col_lst, accuracy_thresh=None, coverage_thresh=None):\n",
    "    \n",
    "    # copy all the data to another list \n",
    "    # so that when we remove rows, it will not affect original lst\n",
    "    # here, remaining rows will be equal to original rows\n",
    "    remaining_rows = copy_rows(rows)\n",
    "    \n",
    "    # eg. ['Yes', 'No'] or ['alive', 'dead']\n",
    "    class_labels = get_unique_class_label(rows)\n",
    "    \n",
    "    # list of rule nodes \n",
    "    rules_lst = []\n",
    "    \n",
    "    # exclude the class label\n",
    "    attributes = col_lst[:-1]\n",
    "    \n",
    "    # remaining_rows is not empty yet so learn a rule\n",
    "    while len(remaining_rows) != 0:\n",
    "        \n",
    "        \n",
    "        remaining_rows, rule_node = learn_one_rule(remaining_rows, class_labels, attributes, accuracy_thresh, coverage_thresh)\n",
    "        \n",
    "        \n",
    "        #print(\"Remaining: \")\n",
    "        #print(remaining_rows)\n",
    "        \n",
    "        if rule_node is None:\n",
    "            break\n",
    "        \n",
    "        \n",
    "        \n",
    "        # add tup to rules\n",
    "        rules_lst.append(rule_node)\n",
    "        \n",
    "    return rules_lst"
   ]
  },
  {
   "cell_type": "markdown",
   "metadata": {},
   "source": [
    "<h5>Testing PRISM Algorithm using small dataset: weather dataset</h5>"
   ]
  },
  {
   "cell_type": "code",
   "execution_count": 13,
   "metadata": {},
   "outputs": [],
   "source": [
    "col_lst = ['Outlook', 'Temp', 'Humidity', 'Windy', 'Play']\n",
    "\n",
    "data_rows = [\n",
    "    ['Sunny', 'Hot', 'High', 'False', 'No'],\n",
    "    ['Sunny', 'Hot', 'High', 'True', 'No'],\n",
    "    ['Overcast', 'Hot', 'High', 'False', 'Yes'],\n",
    "    ['Rainy', 'Mild', 'High', 'False', 'Yes'],\n",
    "    ['Rainy', 'Cool', 'Normal', 'False', 'Yes'],\n",
    "    ['Rainy', 'Cool', 'Normal', 'True', 'No'],\n",
    "    ['Overcast', 'Cool', 'Normal', 'True', 'Yes'],\n",
    "    ['Sunny', 'Mild', 'High', 'False', 'No'],\n",
    "    ['Sunny', 'Cool', 'Normal', 'False', 'Yes'],\n",
    "    ['Rainy', 'Mild', 'Normal', 'False', 'Yes'],\n",
    "    ['Sunny', 'Mild', 'Normal', 'True', 'Yes'],\n",
    "    ['Overcast', 'Mild', 'High', 'True', 'Yes'],\n",
    "    ['Overcast', 'Hot', 'Normal', 'False', 'Yes'],\n",
    "    ['Rainy', 'Mild', 'High', 'True', 'No']\n",
    "]"
   ]
  },
  {
   "cell_type": "code",
   "execution_count": 41,
   "metadata": {},
   "outputs": [
    {
     "name": "stdout",
     "output_type": "stream",
     "text": [
      "If Outlook=Overcast, then Yes. Accuracy = 1.0. Coverage = 4\n"
     ]
    }
   ],
   "source": [
    "# eg of rule\n",
    "conditions_demo = {'Outlook': 'Overcast'}\n",
    "\n",
    "rule_demo = Rule(conditions=conditions_demo, class_label='Yes',accuracy=1.0,coverage=4)\n",
    "print(rule_demo)\n",
    "    "
   ]
  },
  {
   "cell_type": "code",
   "execution_count": 91,
   "metadata": {},
   "outputs": [
    {
     "name": "stdout",
     "output_type": "stream",
     "text": [
      "getting attributes that are not used in the rule\n",
      "['Outlook', 'Temp', 'Windy']\n",
      "\n",
      "\n"
     ]
    }
   ],
   "source": [
    "print(\"getting attributes that are not used in the rule\")\n",
    "\n",
    "test_rule_node = Rule({'Humidity': 'normal'}, 'Yes', 1.0, 0.29)\n",
    "print(get_remaining_attributes(col_lst[:-1], test_rule_node))\n",
    "print(\"\\n\")"
   ]
  },
  {
   "cell_type": "code",
   "execution_count": 123,
   "metadata": {},
   "outputs": [
    {
     "name": "stdout",
     "output_type": "stream",
     "text": [
      "Getting remaining rows after first rule: if outlook = overcast, then yes\n",
      "[['Sunny', 'Hot', 'High', 'False', 'No'], ['Sunny', 'Hot', 'High', 'True', 'No'], ['Rainy', 'Mild', 'High', 'False', 'Yes'], ['Rainy', 'Cool', 'Normal', 'False', 'Yes'], ['Rainy', 'Cool', 'Normal', 'True', 'No'], ['Sunny', 'Mild', 'High', 'False', 'No'], ['Sunny', 'Cool', 'Normal', 'False', 'Yes'], ['Rainy', 'Mild', 'Normal', 'False', 'Yes'], ['Sunny', 'Mild', 'Normal', 'True', 'Yes'], ['Rainy', 'Mild', 'High', 'True', 'No']]\n",
      "\n",
      "\n",
      "Getting remaining rows after second rule: if humidity = normal and windy = false, then yes\n",
      "[['Sunny', 'Hot', 'High', 'False', 'No'], ['Sunny', 'Hot', 'High', 'True', 'No'], ['Rainy', 'Mild', 'High', 'False', 'Yes'], ['Rainy', 'Cool', 'Normal', 'True', 'No'], ['Sunny', 'Mild', 'High', 'False', 'No'], ['Sunny', 'Mild', 'Normal', 'True', 'Yes'], ['Rainy', 'Mild', 'High', 'True', 'No']]\n",
      "\n",
      "\n",
      "Getting remaining rows after third rule: if humidity = high and outlook = sunny, then no\n",
      "[['Rainy', 'Mild', 'High', 'False', 'Yes'], ['Rainy', 'Cool', 'Normal', 'True', 'No'], ['Sunny', 'Mild', 'Normal', 'True', 'Yes'], ['Rainy', 'Mild', 'High', 'True', 'No']]\n",
      "\n",
      "\n"
     ]
    }
   ],
   "source": [
    "print(\"Getting remaining rows after first rule: if outlook = overcast, then yes\")\n",
    "test_rule_node = Rule({'Outlook': 'Overcast'}, 'Yes', 1.0, 4)\n",
    "test_covered_rows = get_condition_based_rows(data_rows, test_rule_node, col_lst[:-1])\n",
    "\n",
    "#test_yes_class_rows = get_specific_rows(data_rows, -1, 'Yes')\n",
    "#test_covered_rows = get_condition_based_rows(test_yes_class_rows, test_rule, col_lst[:-1])\n",
    "rem_data_testing = get_remaining_rows(data_rows, test_covered_rows)\n",
    "print(rem_data_testing)\n",
    "print(\"\\n\")\n",
    "\n",
    "print(\"Getting remaining rows after second rule: if humidity = normal and windy = false, then yes\")\n",
    "test_rule_node = Rule({'Humidity': 'Normal', 'Windy': 'False'}, 'Yes', 1.0, 3)\n",
    "test_covered_rows = get_condition_based_rows(rem_data_testing, test_rule_node, col_lst[:-1])\n",
    "rem_data_testing = get_remaining_rows(rem_data_testing, test_covered_rows)\n",
    "print(rem_data_testing)\n",
    "print(\"\\n\")\n",
    "\n",
    "print(\"Getting remaining rows after third rule: if humidity = high and outlook = sunny, then no\")\n",
    "test_rule_node = Rule({'Humidity': 'High', 'Outlook': 'Sunny'}, 'No', 1.0, 3)\n",
    "test_covered_rows = get_condition_based_rows(rem_data_testing, test_rule_node, col_lst[:-1])\n",
    "rem_data_testing = get_remaining_rows(rem_data_testing, test_covered_rows)\n",
    "print(rem_data_testing)\n",
    "print(\"\\n\")\n"
   ]
  },
  {
   "cell_type": "code",
   "execution_count": 162,
   "metadata": {},
   "outputs": [
    {
     "name": "stdout",
     "output_type": "stream",
     "text": [
      "----------Testing PRISM Algorithm on weather dataset----------\n",
      "If Outlook=Overcast, then Yes. Accuracy = 1.0. Coverage = 4\n",
      "If Humidity=Normal and Windy=False, then Yes. Accuracy = 1.0. Coverage = 3\n",
      "If Humidity=High and Outlook=Sunny, then No. Accuracy = 1.0. Coverage = 3\n"
     ]
    }
   ],
   "source": [
    "print(\"----------Testing PRISM Algorithm on weather dataset----------\")\n",
    "test_weather_rules = PRISM_algorithm(rows=data_rows, col_lst=col_lst, accuracy_thresh=1.0, coverage_thresh=3)\n",
    "\n",
    "for rule in test_weather_rules:\n",
    "    print(rule)"
   ]
  },
  {
   "cell_type": "markdown",
   "metadata": {},
   "source": [
    "<h3>Applying the PRISM Algorithm on COVID-19 dataset</h3>"
   ]
  },
  {
   "cell_type": "markdown",
   "metadata": {},
   "source": [
    "In this dataset we have the following attributes:\n",
    "1. sex: 1 -woman, 2-man\n",
    "2. age: numeric\n",
    "3. diabetes: yes/no\n",
    "4. copd (chronic obstructive pulmonary disease): yes/no\n",
    "5. asthma: yes/no\n",
    "6. imm_supr (suppressed immune system): yes/no\n",
    "7. hypertension: yes/no\n",
    "8. cardiovascular: yes/no\n",
    "9. renal_chronic: yes/no\n",
    "10. tobacco: yes/no\t\n",
    "11. outcome: alive/dead"
   ]
  },
  {
   "cell_type": "code",
   "execution_count": 163,
   "metadata": {},
   "outputs": [],
   "source": [
    "data_file = \"../../data_ml_2020/covid_categorical_good.csv\""
   ]
  },
  {
   "cell_type": "code",
   "execution_count": 164,
   "metadata": {},
   "outputs": [
    {
     "data": {
      "text/plain": [
       "Index(['sex', 'age', 'diabetes', 'copd', 'asthma', 'imm_supr', 'hypertension',\n",
       "       'cardiovascular', 'obesity', 'renal_chronic', 'tobacco', 'outcome'],\n",
       "      dtype='object')"
      ]
     },
     "execution_count": 164,
     "metadata": {},
     "output_type": "execute_result"
    }
   ],
   "source": [
    "import pandas as pd\n",
    "data = pd.read_csv(data_file)\n",
    "data = data.dropna(how=\"any\")\n",
    "data.columns"
   ]
  },
  {
   "cell_type": "code",
   "execution_count": 165,
   "metadata": {},
   "outputs": [
    {
     "data": {
      "text/plain": [
       "219179"
      ]
     },
     "execution_count": 165,
     "metadata": {},
     "output_type": "execute_result"
    }
   ],
   "source": [
    "data_rows = data.to_numpy().tolist()\n",
    "len(data_rows)"
   ]
  },
  {
   "cell_type": "code",
   "execution_count": 166,
   "metadata": {},
   "outputs": [
    {
     "name": "stdout",
     "output_type": "stream",
     "text": [
      "['sex', 'age', 'diabetes', 'copd', 'asthma', 'imm_supr', 'hypertension', 'cardiovascular', 'obesity', 'renal_chronic', 'tobacco', 'outcome']\n"
     ]
    }
   ],
   "source": [
    "columns_list = data.columns.to_numpy().tolist()\n",
    "print(columns_list)"
   ]
  },
  {
   "cell_type": "code",
   "execution_count": null,
   "metadata": {},
   "outputs": [],
   "source": []
  },
  {
   "cell_type": "markdown",
   "metadata": {},
   "source": [
    "<h4>Summary of the rules discovered from the dataset</h4>"
   ]
  },
  {
   "cell_type": "markdown",
   "metadata": {},
   "source": []
  }
 ],
 "metadata": {
  "kernelspec": {
   "display_name": "Python 3",
   "language": "python",
   "name": "python3"
  },
  "language_info": {
   "codemirror_mode": {
    "name": "ipython",
    "version": 3
   },
   "file_extension": ".py",
   "mimetype": "text/x-python",
   "name": "python",
   "nbconvert_exporter": "python",
   "pygments_lexer": "ipython3",
   "version": "3.8.3"
  }
 },
 "nbformat": 4,
 "nbformat_minor": 4
}
