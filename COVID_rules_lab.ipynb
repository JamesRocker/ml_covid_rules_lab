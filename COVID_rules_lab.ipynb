{
 "cells": [
  {
   "cell_type": "markdown",
   "metadata": {},
   "source": [
    "# Classification Rules For COVID-19 dataset Using PRISM Algorithm"
   ]
  },
  {
   "cell_type": "markdown",
   "metadata": {},
   "source": [
    "<h2>PRISM Algorithm Implementation</h2>"
   ]
  },
  {
   "cell_type": "code",
   "execution_count": 1,
   "metadata": {},
   "outputs": [],
   "source": [
    "class Rule:\n",
    "    def __init__(self, conditions=None, class_label=None, accuracy=0.0, coverage=0):\n",
    "        \n",
    "        # conditions refer to attribute and its value\n",
    "        # eg. {'diabetes': 'no', 'hypertension': 'no'}\n",
    "        self.conditions = conditions\n",
    "        \n",
    "        # eg. 'alive' or 'dead' in COVID dataset\n",
    "        # 'Yes' or 'No' in weather dataset\n",
    "        self.class_label = class_label\n",
    "        \n",
    "        # accuracy = number of rows that satisfy both condition and class /(divided by) number of rows that\n",
    "        # satisfy only the condition\n",
    "        self.accuracy = accuracy\n",
    "        \n",
    "        \n",
    "        # coverage refers to number of rows that satisfy only the condition\n",
    "        self.coverage = coverage\n",
    "        \n",
    "    def __str__(self):\n",
    "        \n",
    "        # printing out the rule in a nice format\n",
    "        # eg. \n",
    "        # if diabetes = no, then alive.\n",
    "        # Accuracy = 0.7. Coverage = 21917\n",
    "        \n",
    "        str_rep = \"If \"\n",
    "        \n",
    "        counter = 0\n",
    "        for condition in self.conditions:\n",
    "            if counter == (len(self.conditions) - 1):\n",
    "                if type(self.conditions[condition]) == int or type(self.conditions[condition]) == float:\n",
    "                    str_rep += (str(condition) + \" >= \" + str(self.conditions[condition]))\n",
    "                else:\n",
    "                    str_rep += (str(condition) + \" = \" + str(self.conditions[condition]))\n",
    "            else:\n",
    "                if type(self.conditions[condition]) == int or type(self.conditions[condition]) == float:\n",
    "                    str_rep += (str(condition) + \" >= \" + str(self.conditions[condition]) + \" and \")\n",
    "                else:\n",
    "                    str_rep += (str(condition) + \" = \" + str(self.conditions[condition]) + \" and \")\n",
    "            \n",
    "            counter += 1\n",
    "        \n",
    "        str_rep += (\", then \" + self.class_label) \n",
    "        str_rep += (\".\\n Accuracy = \" + str(self.accuracy))\n",
    "        str_rep += (\". Coverage = \" + str(self.coverage))\n",
    "        str_rep += \"\\n\"\n",
    "        \n",
    "        return str_rep"
   ]
  },
  {
   "cell_type": "code",
   "execution_count": 2,
   "metadata": {},
   "outputs": [],
   "source": [
    "def get_unique_class_label(rows):\n",
    "    \n",
    "    # from getting repetitive class labels, just get the unique class label\n",
    "    # eg of output: ['alive', 'dead']\n",
    "\n",
    "    # use set to hold the unique class label\n",
    "    class_set = set()\n",
    "    \n",
    "    for row in rows:\n",
    "        \n",
    "        # get the last column since last column is where we have a class label\n",
    "        class_label = row[-1]\n",
    "        \n",
    "        if class_label not in class_set:\n",
    "            class_set.add(class_label)\n",
    "            \n",
    "    return list(class_set)\n",
    "        "
   ]
  },
  {
   "cell_type": "code",
   "execution_count": 3,
   "metadata": {},
   "outputs": [],
   "source": [
    "def copy_rows(rows):\n",
    "    \n",
    "    # copy the data to another nested list\n",
    "    # there is another way to copy: using deepcopy that requires to import copy\n",
    "    # the below way can also be used to copy data from one nested list to another nested list\n",
    "    \n",
    "    nested_lst = []\n",
    "    for row in rows:\n",
    "        inner_lst = []\n",
    "        for each_data in row:\n",
    "            inner_lst.append(each_data)\n",
    "            \n",
    "        nested_lst.append(inner_lst)\n",
    "    return nested_lst"
   ]
  },
  {
   "cell_type": "code",
   "execution_count": 4,
   "metadata": {},
   "outputs": [],
   "source": [
    "# get attributes that have not been used by the rule\n",
    "def get_remaining_attributes(attributes, rule_node):\n",
    "    \n",
    "    # eg. if attribute called 'age' has been used, get remaining attributes other than 'age'\n",
    "    \n",
    "    # if the node is None, just return the attributes because none of them haven't been used yet.\n",
    "    if rule_node is None:\n",
    "        return attributes\n",
    "     \n",
    "    rule_dic = rule_node.conditions\n",
    "    \n",
    "    return [attribute for attribute in attributes if attribute not in rule_dic]"
   ]
  },
  {
   "cell_type": "code",
   "execution_count": 5,
   "metadata": {},
   "outputs": [],
   "source": [
    "def get_unique_attribute_vals(rows, indx):\n",
    "    \n",
    "    # There are repetitive attribute values and we want to get the attribute values that are distinct.\n",
    "    # eg of outcome:  ['overcast','sunny','rainy']\n",
    "    # There are two lists: one for data and another for columns/attributes\n",
    "    # Eg. each row = ['overcast',...], columns = ['Outlook',...]\n",
    "    # with the help of indx, we can actually get the data associated with a particular column\n",
    "    \n",
    "    # a set to hold the unique attribute values\n",
    "    attribute_val_set = set()\n",
    "    \n",
    "    lst = [row[indx] for row in rows]\n",
    "    return list(set(lst))"
   ]
  },
  {
   "cell_type": "code",
   "execution_count": 6,
   "metadata": {},
   "outputs": [],
   "source": [
    "def get_attribute_indx(attribute, attribute_lst):\n",
    "    \n",
    "    # we want to find the index of a particular attribute in the attribute list.\n",
    "    # eg. attribute = 'Outlook', attribute_lst = ['Outlook',...]\n",
    "    # so in the above example, indx will be 0\n",
    "    \n",
    "    \n",
    "    for indx, attr in enumerate(attribute_lst):\n",
    "        if attribute == attr:\n",
    "            return indx\n",
    "    "
   ]
  },
  {
   "cell_type": "code",
   "execution_count": 7,
   "metadata": {},
   "outputs": [],
   "source": [
    "def get_condition_based_rows(rows, rule_node, attr_lst):\n",
    "    \n",
    "    # bring back rows that satisfy the condition(s)\n",
    "    \n",
    "    if rule_node is not None:\n",
    "        rule_dic = rule_node.conditions\n",
    "        \n",
    "        # copy the data so that the original data will not be affected when we change the list\n",
    "        covered_rows = copy_rows(rows)\n",
    "\n",
    "        for key in rule_dic:\n",
    "            indx = get_attribute_indx(key, attr_lst)\n",
    "            \n",
    "             # for numerical. eg. 32, 56...\n",
    "            if isinstance(rule_dic[key], int) or isinstance(rule_dic[key], float):\n",
    "                covered_rows = [row for row in covered_rows if row[indx] >= rule_dic[key]]\n",
    "          \n",
    "            else:\n",
    "                # for classification groups. eg: True/False, Hot/Mild/Cool \n",
    "                covered_rows = [row for row in covered_rows if row[indx] == rule_dic[key]]\n",
    "\n",
    "        return covered_rows"
   ]
  },
  {
   "cell_type": "code",
   "execution_count": 8,
   "metadata": {},
   "outputs": [],
   "source": [
    "def calculate_accuracy(correct_rows, covered_rows):\n",
    "    \n",
    "    # accuracy = number of correct rows(satisfy both condition and class label) / number of covered_rows based on condition\n",
    "    \n",
    "    no_of_correct_class = len(correct_rows)\n",
    "    no_of_covered_rows = len(covered_rows)\n",
    "    \n",
    "    # accuracy is between 0.0 and 1.0\n",
    "    accuracy = no_of_correct_class / float(no_of_covered_rows)\n",
    "    return accuracy"
   ]
  },
  {
   "cell_type": "code",
   "execution_count": 9,
   "metadata": {},
   "outputs": [],
   "source": [
    "def get_rule_with_highest_accuracy(possible_rules):\n",
    "    \n",
    "    # possible rules contains rule nodes and we want to find the highest accuracy rule among all the rules\n",
    "    # if there is a tie in accuracy, we choose the rule with larger coverage.\n",
    "    # if there is still tie, we can choose either one. In the code below, if there is still tie, I just choose the one that comes first\n",
    "    \n",
    "    max_acc_node = None\n",
    "    \n",
    "    highest_acc = 0\n",
    "    highest_cov = 0\n",
    "    \n",
    "    \n",
    "    for possible_rule_node in possible_rules:\n",
    "        if possible_rule_node is None:\n",
    "            continue\n",
    "        \n",
    "        acc = possible_rule_node.accuracy\n",
    "        cov = possible_rule_node.coverage\n",
    "        \n",
    "        # if current node accuracy is higher than the max accuracy so far, choose the current rule as best rule\n",
    "        if acc > highest_acc:\n",
    "            highest_acc = acc\n",
    "            highest_cov = cov\n",
    "            \n",
    "            max_acc_node = possible_rule_node\n",
    "            \n",
    "        elif acc == highest_acc:\n",
    "            \n",
    "            # if there is accuracy tie, select using the coverage \n",
    "            # if current node coverage is higher than max coverage so far, choose the current rule as best rule\n",
    "            \n",
    "            if cov > highest_cov:\n",
    "                highest_cov = cov\n",
    "                \n",
    "                max_acc_node = possible_rule_node\n",
    "                \n",
    "    return max_acc_node        "
   ]
  },
  {
   "cell_type": "code",
   "execution_count": 10,
   "metadata": {},
   "outputs": [],
   "source": [
    "# remove rows which are covered by the rules\n",
    "def get_remaining_rows(rows, covered_rows):\n",
    "    \n",
    "    # We choose the rows that are not covered by the rules. \n",
    "    \n",
    "    return [row for row in rows if row not in covered_rows]\n",
    "\n"
   ]
  },
  {
   "cell_type": "code",
   "execution_count": 35,
   "metadata": {},
   "outputs": [],
   "source": [
    "def learn_one_rule(rows, class_labels, attributes, accuracy_thresh, coverage_thresh):\n",
    "    \n",
    "    # mapping attribute to index\n",
    "    attribute_indx_dic = {}\n",
    "    counter = 0\n",
    "    for attribute in attributes:\n",
    "        attribute_indx_dic[attribute] = counter\n",
    "        counter += 1\n",
    "        \n",
    "    \n",
    "    # these are data that are covered by the rules and we copy the data because we don't want to have effect on original list\n",
    "    rows_covered_by_rule = copy_rows(rows)\n",
    "    \n",
    "    # this keeps track of best rule so far. First, we initialize it to None because we haven't got any rule yet\n",
    "    highest_node = None\n",
    "    \n",
    "    while True:\n",
    "        print(\"highest_node: \")\n",
    "        print(highest_node)\n",
    "    \n",
    "        # this keeps track of rules that have different class label.\n",
    "        # eg. if we have two class labels-'alive' or 'dead', this list can contain rules for both labels and later choose the best rule\n",
    "        best_classes_rule_lst = []\n",
    "\n",
    "        for class_label in class_labels:\n",
    "            \n",
    "            # if we already have the highest node and its class label is not the same as the current class label,\n",
    "            # we go on to next class label\n",
    "            # let's say we have best rule so far: if diabetes = no, then alive.\n",
    "            # Then, when we want to refine this rule, we don't need to consider class label 'dead'.\n",
    "            \n",
    "            if highest_node is not None and highest_node.class_label != class_label:\n",
    "                continue\n",
    "\n",
    "            # remaining attributes that haven't been used in the rule\n",
    "            remaining_attributes = get_remaining_attributes(attributes, highest_node)\n",
    "\n",
    "            # this stores the nodes generated from considering each attribute for each class label\n",
    "            # eg. if class_label is 'alive', this will keep track of nodes produced from considering each attribute for the 'alive' class label\n",
    "            possible_rules = []\n",
    "\n",
    "\n",
    "            # go over all the remaining attributes\n",
    "            for attr in remaining_attributes:\n",
    "\n",
    "                indx = attribute_indx_dic[attr]\n",
    "\n",
    "                # get unique attribute values such as 'Sunny', Rainy, ...\n",
    "                remaining_attr_vals = get_unique_attribute_vals(rows_covered_by_rule, indx)\n",
    "\n",
    "                # go over the remaining attribute values\n",
    "                for attr_val in remaining_attr_vals:\n",
    "                    \n",
    "                    # note: both attribute and values of attribute results in condition\n",
    "                    # eg. If 'Outlook' = 'Sunny' \n",
    "\n",
    "                    # create a rule node for each attribute values\n",
    "                    potential_rule_node = Rule(conditions={attr: attr_val}, class_label=class_label)\n",
    "\n",
    "\n",
    "                    # Simply, give me rows which satisfy the condition\n",
    "                    # eg. give me rows that has Outlook = Sunny\n",
    "                    only_condition_rows = get_condition_based_rows(rows_covered_by_rule, potential_rule_node, attributes)\n",
    "\n",
    "\n",
    "                    # Simply, give me rows which satisfy both the condition and the class label\n",
    "                    # Eg. give me rows that has 'Outlook' = 'Sunny' and class label = 'Yes'\n",
    "                    # these are rows that satisfy both condition and class label\n",
    "                    condition_class_label_rows = [row for row in only_condition_rows if row[-1] == class_label]\n",
    "\n",
    "\n",
    "                 \n",
    "                    # coverage refers to number of rows that satisfy the condition. In other words, it covers the rows that meet the conditions\n",
    "                    cov = len(only_condition_rows)\n",
    "                    \n",
    "                    # calculate accuracy\n",
    "                    calculated_acc = calculate_accuracy(condition_class_label_rows, only_condition_rows)\n",
    "                    \n",
    "                    # if the current coverage exceeds the coverage threshold, then we add the potential rule to the list\n",
    "                    # let's say coverage threshold is 3. Even if the accuracy is 1.0(2/2), the coverage of that rule(ie. 2) is less than the coverage threshold(ie. 3)\n",
    "                    # In the example above, we will not consider that rule because the rule covers less rows than the specified coverage threshold. \n",
    "                    if cov >= coverage_thresh:\n",
    "                        potential_rule_node.accuracy = calculated_acc\n",
    "                        potential_rule_node.coverage = cov\n",
    "                    \n",
    "                        possible_rules.append(potential_rule_node)\n",
    "        \n",
    "        \n",
    "            # if there are no rules in possible_rules list for that class label, continue to the next class label \n",
    "            if len(possible_rules) == 0:\n",
    "                continue\n",
    "            \n",
    "            \n",
    "            # get the rule with highest accuracy(ie. best rule) among the same class label\n",
    "            highest_accuracy_rule = get_rule_with_highest_accuracy(possible_rules)\n",
    "\n",
    "            # add that rule to the best_classes_rule_lst so that we can compare this rule to the another rule for another class\n",
    "            best_classes_rule_lst.append(highest_accuracy_rule)\n",
    "            \n",
    "        \n",
    "            # if there is highest node, that means that it already has first condition and it is here for refining the rule\n",
    "            # So just update the highest_node with more conditions, accuracy and coverage\n",
    "            if highest_node is not None:\n",
    "\n",
    "                for key in highest_accuracy_rule.conditions:\n",
    "                    attri_value = highest_accuracy_rule.conditions[key]\n",
    "\n",
    "                    highest_node.conditions[key] = attri_value\n",
    "\n",
    "                highest_node.accuracy = highest_accuracy_rule.accuracy\n",
    "                highest_node.coverage = highest_accuracy_rule.coverage\n",
    "         \n",
    "        print(\"Best classes rule lst\")\n",
    "        print(best_classes_rule_lst)\n",
    "        \n",
    "        # if there is no rule in the best_classes_rule_lst, that means that no best rule is found so just return None\n",
    "        if len(best_classes_rule_lst) == 0:\n",
    "            return None, None\n",
    "        \n",
    "        # if there is no best rule so far yet, find the best rule among the rules in best_classes_rule_lst\n",
    "        # and assign the best rule to highest_node.\n",
    "        if highest_node is None:\n",
    "            # this node is the best among other nodes including nodes from other class labels\n",
    "            highest_node = get_rule_with_highest_accuracy(best_classes_rule_lst)\n",
    "        \n",
    "        # get the rows that meet the conditions of the rule and assign to rows_covered_by_rule\n",
    "        # So this list gets smaller and smaller as the rule gets refined.\n",
    "        rows_covered_by_rule = get_condition_based_rows(rows_covered_by_rule, highest_node, attributes)\n",
    "\n",
    "        # if the accuracy threshold has been reached or if the rule covers less rows than the coverage threshold,\n",
    "        # just stop refining the rule\n",
    "        if highest_node.accuracy >= accuracy_thresh or highest_node.coverage < coverage_thresh:\n",
    "            break\n",
    "            \n",
    "    # By this step, we know number of rows that the best rule covers and we want to find the remaining rows.\n",
    "    remaining_rows = get_remaining_rows(rows, rows_covered_by_rule)\n",
    "        \n",
    "    return remaining_rows, highest_node\n",
    "    \n",
    "    \n",
    "   \n",
    "        \n",
    "        \n",
    "    \n",
    "    \n",
    "    "
   ]
  },
  {
   "cell_type": "code",
   "execution_count": 36,
   "metadata": {},
   "outputs": [],
   "source": [
    "def PRISM_algorithm(rows, col_lst, accuracy_thresh=1.0, coverage_thresh=3):\n",
    "    \n",
    "    # copy all the data to another list \n",
    "    # so that when we remove rows, it will not affect original lst\n",
    "    # here, remaining_rows will first be equal to original rows\n",
    "    remaining_rows = copy_rows(rows)\n",
    "    \n",
    "    # eg. ['Yes', 'No'] or ['alive', 'dead']\n",
    "    class_labels = get_unique_class_label(rows)\n",
    "    \n",
    "    # list of rule nodes \n",
    "    rules_lst = []\n",
    "    \n",
    "    # exclude the class label\n",
    "    attributes = col_lst[:-1]\n",
    "    \n",
    "    # remaining_rows is not empty yet so learn a rule\n",
    "    while len(remaining_rows) != 0:\n",
    "        \n",
    "        \n",
    "        remaining_rows, rule_node = learn_one_rule(remaining_rows, class_labels, attributes, accuracy_thresh, coverage_thresh)\n",
    "        \n",
    "          \n",
    "        # this means that all the rows that remain have coverage that is below the threshold so we do not consider them\n",
    "        if rule_node is None:\n",
    "            break\n",
    "            \n",
    "        print(rules_lst)\n",
    "        \n",
    "        \n",
    "        \n",
    "        # add node to rules\n",
    "        rules_lst.append(rule_node)\n",
    "        \n",
    "    return rules_lst"
   ]
  },
  {
   "cell_type": "markdown",
   "metadata": {},
   "source": [
    "<h2>Testing PRISM Algorithm using small dataset: weather dataset</h2>"
   ]
  },
  {
   "cell_type": "code",
   "execution_count": 13,
   "metadata": {},
   "outputs": [],
   "source": [
    "col_lst = ['Outlook', 'Temp', 'Humidity', 'Windy', 'Play']\n",
    "\n",
    "data_rows = [\n",
    "    ['Sunny', 'Hot', 'High', 'False', 'No'],\n",
    "    ['Sunny', 'Hot', 'High', 'True', 'No'],\n",
    "    ['Overcast', 'Hot', 'High', 'False', 'Yes'],\n",
    "    ['Rainy', 'Mild', 'High', 'False', 'Yes'],\n",
    "    ['Rainy', 'Cool', 'Normal', 'False', 'Yes'],\n",
    "    ['Rainy', 'Cool', 'Normal', 'True', 'No'],\n",
    "    ['Overcast', 'Cool', 'Normal', 'True', 'Yes'],\n",
    "    ['Sunny', 'Mild', 'High', 'False', 'No'],\n",
    "    ['Sunny', 'Cool', 'Normal', 'False', 'Yes'],\n",
    "    ['Rainy', 'Mild', 'Normal', 'False', 'Yes'],\n",
    "    ['Sunny', 'Mild', 'Normal', 'True', 'Yes'],\n",
    "    ['Overcast', 'Mild', 'High', 'True', 'Yes'],\n",
    "    ['Overcast', 'Hot', 'Normal', 'False', 'Yes'],\n",
    "    ['Rainy', 'Mild', 'High', 'True', 'No']\n",
    "]"
   ]
  },
  {
   "cell_type": "code",
   "execution_count": 14,
   "metadata": {},
   "outputs": [
    {
     "name": "stdout",
     "output_type": "stream",
     "text": [
      "Eg of rule that is printed in nice format: \n",
      "If Outlook = Overcast, then Yes.\n",
      " Accuracy = 1.0. Coverage = 5\n",
      "\n"
     ]
    }
   ],
   "source": [
    "# eg of rule\n",
    "conditions_demo = {'Outlook': 'Overcast'}\n",
    "\n",
    "rule_demo = Rule(conditions=conditions_demo, class_label='Yes',accuracy=1.0,coverage=5)\n",
    "print(\"Eg of rule that is printed in nice format: \")\n",
    "print(rule_demo)\n",
    "    "
   ]
  },
  {
   "cell_type": "code",
   "execution_count": 15,
   "metadata": {},
   "outputs": [
    {
     "name": "stdout",
     "output_type": "stream",
     "text": [
      "getting attributes that are not used in the rule\n",
      "['Outlook', 'Temp', 'Windy']\n",
      "\n",
      "\n"
     ]
    }
   ],
   "source": [
    "print(\"getting attributes that are not used in the rule\")\n",
    "\n",
    "test_rule_node = Rule({'Humidity': 'normal'}, 'Yes', 1.0, 5)\n",
    "print(get_remaining_attributes(col_lst[:-1], test_rule_node))\n",
    "print(\"\\n\")"
   ]
  },
  {
   "cell_type": "code",
   "execution_count": 16,
   "metadata": {},
   "outputs": [
    {
     "name": "stdout",
     "output_type": "stream",
     "text": [
      "Getting remaining rows after first rule: if outlook = overcast, then yes\n",
      "[['Sunny', 'Hot', 'High', 'False', 'No'], ['Sunny', 'Hot', 'High', 'True', 'No'], ['Rainy', 'Mild', 'High', 'False', 'Yes'], ['Rainy', 'Cool', 'Normal', 'False', 'Yes'], ['Rainy', 'Cool', 'Normal', 'True', 'No'], ['Sunny', 'Mild', 'High', 'False', 'No'], ['Sunny', 'Cool', 'Normal', 'False', 'Yes'], ['Rainy', 'Mild', 'Normal', 'False', 'Yes'], ['Sunny', 'Mild', 'Normal', 'True', 'Yes'], ['Rainy', 'Mild', 'High', 'True', 'No']]\n",
      "\n",
      "\n",
      "Getting remaining rows after second rule: if humidity = normal and windy = false, then yes\n",
      "[['Sunny', 'Hot', 'High', 'False', 'No'], ['Sunny', 'Hot', 'High', 'True', 'No'], ['Rainy', 'Mild', 'High', 'False', 'Yes'], ['Rainy', 'Cool', 'Normal', 'True', 'No'], ['Sunny', 'Mild', 'High', 'False', 'No'], ['Sunny', 'Mild', 'Normal', 'True', 'Yes'], ['Rainy', 'Mild', 'High', 'True', 'No']]\n",
      "\n",
      "\n",
      "Getting remaining rows after third rule: if humidity = high and outlook = sunny, then no\n",
      "[['Rainy', 'Mild', 'High', 'False', 'Yes'], ['Rainy', 'Cool', 'Normal', 'True', 'No'], ['Sunny', 'Mild', 'Normal', 'True', 'Yes'], ['Rainy', 'Mild', 'High', 'True', 'No']]\n",
      "\n",
      "\n"
     ]
    }
   ],
   "source": [
    "print(\"Getting remaining rows after first rule: if outlook = overcast, then yes\")\n",
    "test_rule_node = Rule({'Outlook': 'Overcast'}, 'Yes', 1.0, 4)\n",
    "test_covered_rows = get_condition_based_rows(data_rows, test_rule_node, col_lst[:-1])\n",
    "\n",
    "\n",
    "rem_data_testing = get_remaining_rows(data_rows, test_covered_rows)\n",
    "print(rem_data_testing)\n",
    "print(\"\\n\")\n",
    "\n",
    "print(\"Getting remaining rows after second rule: if humidity = normal and windy = false, then yes\")\n",
    "test_rule_node = Rule({'Humidity': 'Normal', 'Windy': 'False'}, 'Yes', 1.0, 3)\n",
    "test_covered_rows = get_condition_based_rows(rem_data_testing, test_rule_node, col_lst[:-1])\n",
    "rem_data_testing = get_remaining_rows(rem_data_testing, test_covered_rows)\n",
    "print(rem_data_testing)\n",
    "print(\"\\n\")\n",
    "\n",
    "print(\"Getting remaining rows after third rule: if humidity = high and outlook = sunny, then no\")\n",
    "test_rule_node = Rule({'Humidity': 'High', 'Outlook': 'Sunny'}, 'No', 1.0, 3)\n",
    "test_covered_rows = get_condition_based_rows(rem_data_testing, test_rule_node, col_lst[:-1])\n",
    "rem_data_testing = get_remaining_rows(rem_data_testing, test_covered_rows)\n",
    "print(rem_data_testing)\n",
    "print(\"\\n\")\n"
   ]
  },
  {
   "cell_type": "code",
   "execution_count": 37,
   "metadata": {},
   "outputs": [
    {
     "name": "stdout",
     "output_type": "stream",
     "text": [
      "----------Testing PRISM Algorithm on weather dataset----------\n",
      "highest_node: \n",
      "None\n",
      "Best classes rule lst\n",
      "[<__main__.Rule object at 0x7fd2632b7910>, <__main__.Rule object at 0x7fd263430520>]\n",
      "[]\n",
      "highest_node: \n",
      "None\n",
      "Best classes rule lst\n",
      "[<__main__.Rule object at 0x7fd2632b76d0>, <__main__.Rule object at 0x7fd2632b7bb0>]\n",
      "highest_node: \n",
      "If Humidity = Normal, then Yes.\n",
      " Accuracy = 0.8. Coverage = 5\n",
      "\n",
      "Best classes rule lst\n",
      "[<__main__.Rule object at 0x7fd2632b7c10>]\n",
      "[<__main__.Rule object at 0x7fd2632b7910>]\n",
      "highest_node: \n",
      "None\n",
      "Best classes rule lst\n",
      "[<__main__.Rule object at 0x7fd2632b7d60>, <__main__.Rule object at 0x7fd267050250>]\n",
      "highest_node: \n",
      "If Humidity = High, then No.\n",
      " Accuracy = 0.8. Coverage = 5\n",
      "\n",
      "Best classes rule lst\n",
      "[<__main__.Rule object at 0x7fd267050a60>]\n",
      "[<__main__.Rule object at 0x7fd2632b7910>, <__main__.Rule object at 0x7fd2632b76d0>]\n",
      "highest_node: \n",
      "None\n",
      "Best classes rule lst\n",
      "[<__main__.Rule object at 0x7fd267050f10>, <__main__.Rule object at 0x7fd267050730>]\n",
      "highest_node: \n",
      "If Temp = Mild, then Yes.\n",
      " Accuracy = 0.6666666666666666. Coverage = 3\n",
      "\n",
      "Best classes rule lst\n",
      "[]\n",
      "If Outlook = Overcast, then Yes.\n",
      " Accuracy = 1.0. Coverage = 4\n",
      "\n",
      "If Humidity = Normal and Windy = False, then Yes.\n",
      " Accuracy = 1.0. Coverage = 3\n",
      "\n",
      "If Humidity = High and Outlook = Sunny, then No.\n",
      " Accuracy = 1.0. Coverage = 3\n",
      "\n"
     ]
    }
   ],
   "source": [
    "print(\"----------Testing PRISM Algorithm on weather dataset----------\")\n",
    "\n",
    "test_weather_rules = PRISM_algorithm(rows=data_rows, col_lst=col_lst, accuracy_thresh=1.0, coverage_thresh=3)\n",
    "\n",
    "for rule in test_weather_rules:\n",
    "    print(rule)"
   ]
  },
  {
   "cell_type": "markdown",
   "metadata": {},
   "source": [
    "<h2>Applying the PRISM Algorithm on COVID-19 dataset</h2>"
   ]
  },
  {
   "cell_type": "markdown",
   "metadata": {},
   "source": [
    "In this dataset we have the following attributes:\n",
    "1. sex: 1 -woman, 2-man\n",
    "2. age: numeric\n",
    "3. diabetes: yes/no\n",
    "4. copd (chronic obstructive pulmonary disease): yes/no\n",
    "5. asthma: yes/no\n",
    "6. imm_supr (suppressed immune system): yes/no\n",
    "7. hypertension: yes/no\n",
    "8. cardiovascular: yes/no\n",
    "9. renal_chronic: yes/no\n",
    "10. tobacco: yes/no\t\n",
    "11. outcome: alive/dead"
   ]
  },
  {
   "cell_type": "code",
   "execution_count": 19,
   "metadata": {},
   "outputs": [],
   "source": [
    "covid_data_file = \"../../data_ml_2020/covid_categorical_good.csv\""
   ]
  },
  {
   "cell_type": "code",
   "execution_count": 20,
   "metadata": {},
   "outputs": [
    {
     "data": {
      "text/plain": [
       "Index(['sex', 'age', 'diabetes', 'copd', 'asthma', 'imm_supr', 'hypertension',\n",
       "       'cardiovascular', 'obesity', 'renal_chronic', 'tobacco', 'outcome'],\n",
       "      dtype='object')"
      ]
     },
     "execution_count": 20,
     "metadata": {},
     "output_type": "execute_result"
    }
   ],
   "source": [
    "import pandas as pd\n",
    "data = pd.read_csv(covid_data_file)\n",
    "data = data.dropna(how=\"any\")\n",
    "data.columns"
   ]
  },
  {
   "cell_type": "code",
   "execution_count": 21,
   "metadata": {},
   "outputs": [
    {
     "name": "stdout",
     "output_type": "stream",
     "text": [
      "number of rows:  219179\n",
      "\n",
      "\n",
      "[['Sunny', 'Hot', 'High', 'False', 'No'], ['Sunny', 'Hot', 'High', 'True', 'No'], ['Overcast', 'Hot', 'High', 'False', 'Yes'], ['Rainy', 'Mild', 'High', 'False', 'Yes'], ['Rainy', 'Cool', 'Normal', 'False', 'Yes']]\n"
     ]
    }
   ],
   "source": [
    "covid_data_rows = data.to_numpy().tolist()\n",
    "print(\"number of rows: \",len(covid_data_rows))\n",
    "print(\"\\n\")\n",
    "print(data_rows[:5])"
   ]
  },
  {
   "cell_type": "code",
   "execution_count": 22,
   "metadata": {},
   "outputs": [
    {
     "name": "stdout",
     "output_type": "stream",
     "text": [
      "number of columns:  12\n",
      "\n",
      "\n",
      "['sex', 'age', 'diabetes', 'copd', 'asthma', 'imm_supr', 'hypertension', 'cardiovascular', 'obesity', 'renal_chronic', 'tobacco', 'outcome']\n"
     ]
    }
   ],
   "source": [
    "covid_col_lst = data.columns.to_numpy().tolist()\n",
    "print(\"number of columns: \", len(covid_col_lst))\n",
    "print(\"\\n\")\n",
    "print(covid_col_lst)"
   ]
  },
  {
   "cell_type": "code",
   "execution_count": 23,
   "metadata": {},
   "outputs": [
    {
     "data": {
      "text/plain": [
       "['sex',\n",
       " 'diabetes',\n",
       " 'copd',\n",
       " 'asthma',\n",
       " 'imm_supr',\n",
       " 'hypertension',\n",
       " 'cardiovascular',\n",
       " 'obesity',\n",
       " 'renal_chronic',\n",
       " 'tobacco']"
      ]
     },
     "execution_count": 23,
     "metadata": {},
     "output_type": "execute_result"
    }
   ],
   "source": [
    "\n",
    "rule_node_testing = Rule(conditions={'age': 30},class_label='alive',accuracy=1.0,coverage=3)\n",
    "\n",
    "get_remaining_attributes(attributes=covid_col_lst[:-1], rule_node=rule_node_testing)\n"
   ]
  },
  {
   "cell_type": "code",
   "execution_count": 38,
   "metadata": {},
   "outputs": [
    {
     "name": "stdout",
     "output_type": "stream",
     "text": [
      "---------- PRISM Algorithm on small COVID dataset----------\n",
      "highest_node: \n",
      "None\n",
      "Best classes rule lst\n",
      "[<__main__.Rule object at 0x7fd2632b7580>, <__main__.Rule object at 0x7fd26efe3040>]\n",
      "[]\n",
      "highest_node: \n",
      "None\n",
      "Best classes rule lst\n",
      "[<__main__.Rule object at 0x7fd2632b74f0>, <__main__.Rule object at 0x7fd2634301c0>]\n",
      "[<__main__.Rule object at 0x7fd2632b7580>]\n",
      "highest_node: \n",
      "None\n",
      "Best classes rule lst\n",
      "[<__main__.Rule object at 0x7fd2634304c0>, <__main__.Rule object at 0x7fd263430580>]\n",
      "[<__main__.Rule object at 0x7fd2632b7580>, <__main__.Rule object at 0x7fd2632b74f0>]\n",
      "highest_node: \n",
      "None\n",
      "Best classes rule lst\n",
      "[<__main__.Rule object at 0x7fd263430df0>, <__main__.Rule object at 0x7fd2634305e0>]\n",
      "[<__main__.Rule object at 0x7fd2632b7580>, <__main__.Rule object at 0x7fd2632b74f0>, <__main__.Rule object at 0x7fd263430580>]\n",
      "highest_node: \n",
      "None\n",
      "Best classes rule lst\n",
      "[<__main__.Rule object at 0x7fd2634309a0>, <__main__.Rule object at 0x7fd2632b7a60>]\n",
      "[<__main__.Rule object at 0x7fd2632b7580>, <__main__.Rule object at 0x7fd2632b74f0>, <__main__.Rule object at 0x7fd263430580>, <__main__.Rule object at 0x7fd263430df0>]\n",
      "highest_node: \n",
      "None\n",
      "Best classes rule lst\n",
      "[]\n",
      "If sex = female, then alive.\n",
      " Accuracy = 0.8698347107438017. Coverage = 484\n",
      "\n",
      "If diabetes = no, then alive.\n",
      " Accuracy = 0.8149038461538461. Coverage = 416\n",
      "\n",
      "If age >= 67, then dead.\n",
      " Accuracy = 0.6666666666666666. Coverage = 33\n",
      "\n",
      "If hypertension = no, then alive.\n",
      " Accuracy = 0.8. Coverage = 30\n",
      "\n",
      "If cardiovascular = no, then alive.\n",
      " Accuracy = 0.7575757575757576. Coverage = 33\n",
      "\n"
     ]
    }
   ],
   "source": [
    "# testing on small dataset\n",
    "print(\"---------- PRISM Algorithm on small COVID dataset----------\")\n",
    "\n",
    "\n",
    "\n",
    "covid_rules = PRISM_algorithm(rows=covid_data_rows[:1000], \n",
    "                              col_lst=covid_col_lst, accuracy_thresh=0.4, coverage_thresh=30)\n",
    "\n",
    "for rule in covid_rules:\n",
    "    print(rule)\n",
    "\n"
   ]
  },
  {
   "cell_type": "code",
   "execution_count": null,
   "metadata": {},
   "outputs": [
    {
     "name": "stdout",
     "output_type": "stream",
     "text": [
      "---------- PRISM Algorithm on COVID dataset----------\n",
      "highest_node: \n",
      "None\n",
      "Best classes rule lst\n",
      "[<__main__.Rule object at 0x7fd267050850>, <__main__.Rule object at 0x7fd26a5c0730>]\n"
     ]
    }
   ],
   "source": [
    "\n",
    "print(\"---------- PRISM Algorithm on COVID dataset----------\")\n",
    "\n",
    "#coverage_threshold_in_percent = 3\n",
    "#coverage_thresh_val = int((coverage_threshold_in_percent/100) * len(covid_data_rows))\n",
    "#print(\"Coverage Threshold in terms of number of rows: \",coverage_thresh_val)\n",
    "\n",
    "covid_rules = PRISM_algorithm(rows=covid_data_rows, col_lst=covid_col_lst, \n",
    "                              accuracy_thresh=0.6, coverage_thresh=30)\n",
    "\n",
    "if (len(covid_rules)) == 0:\n",
    "    print(\"No rules found!\")\n",
    "else:\n",
    "    for rule in covid_rules:\n",
    "        print(rule)\n"
   ]
  },
  {
   "cell_type": "markdown",
   "metadata": {},
   "source": [
    "<h3>Summary of the rules discovered from the dataset</h3>"
   ]
  },
  {
   "cell_type": "markdown",
   "metadata": {},
   "source": [
    "For accuracy_threshold = 0.8, coverage_thresh is 21917 (around 9.999%):\n",
    "\n",
    "    If hypertension = no, then alive.\n",
    "        Accuracy = 0.9118543984283984. Coverage = 175108\n",
    "\n",
    "    If diabetes = no and renal_chronic = no and copd = no, then alive.\n",
    "        Accuracy = 0.8030269987351158. Coverage = 22927\n",
    "\n",
    "\n",
    "For accuracy_threshold = 0.8, coverage_thresh = 43836 (around 20%):\n",
    "    \n",
    "    If hypertension = no, then alive.\n",
    "        Accuracy = 0.9118543984283984. Coverage = 175108\n",
    "        \n",
    "        \n",
    "        \n",
    "For accuracy_threshold = 0.8, coverage_thresh = 17534 (around 8%):\n",
    "    \n",
    "    If hypertension = no, then alive.\n",
    "        Accuracy = 0.9118543984283984. Coverage = 175108\n",
    "\n",
    "    If diabetes = no and renal_chronic = no and copd = no, then alive.\n",
    "        Accuracy = 0.8030269987351158. Coverage = 22927\n",
    "        \n",
    "        \n",
    "For accuracy_threshold = 0.6, coverage_thresh = 21917 (around 10%):\n",
    "\n",
    "    If hypertension = no, then alive.\n",
    "        Accuracy = 0.9118543984283984. Coverage = 175108\n",
    "\n",
    "    If diabetes = no, then alive.\n",
    "        Accuracy = 0.7902519387632098. Coverage = 24887\n",
    "\n",
    "For accuracy_threshold = 0.4, coverage_thresh = 6575 (around 3%):\n",
    "    \n",
    "    If hypertension = no, then alive.\n",
    "        Accuracy = 0.9118543984283984. Coverage = 175108\n",
    "\n",
    "    If diabetes = no, then alive.\n",
    "        Accuracy = 0.7902519387632098. Coverage = 24887\n",
    "\n",
    "    If sex = female, then alive.\n",
    "        Accuracy = 0.7126284388465363. Coverage = 9051\n",
    "\n",
    "    If renal_chronic = no, then alive.\n",
    "        Accuracy = 0.6717284502009826. Coverage = 8956\n",
    "\n"
   ]
  },
  {
   "cell_type": "code",
   "execution_count": null,
   "metadata": {},
   "outputs": [],
   "source": []
  }
 ],
 "metadata": {
  "kernelspec": {
   "display_name": "Python 3",
   "language": "python",
   "name": "python3"
  },
  "language_info": {
   "codemirror_mode": {
    "name": "ipython",
    "version": 3
   },
   "file_extension": ".py",
   "mimetype": "text/x-python",
   "name": "python",
   "nbconvert_exporter": "python",
   "pygments_lexer": "ipython3",
   "version": "3.8.3"
  }
 },
 "nbformat": 4,
 "nbformat_minor": 4
}
